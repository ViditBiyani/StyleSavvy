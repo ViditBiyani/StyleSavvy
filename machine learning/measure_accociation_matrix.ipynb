{
  "cells": [
    {
      "cell_type": "markdown",
      "metadata": {
        "id": "JI9PNaf1TLDk"
      },
      "source": [
        "# Analysis and Measurements of Co-Occurance Matrix Recommendations"
      ]
    },
    {
      "cell_type": "code",
      "execution_count": 2,
      "metadata": {
        "id": "jfIHUyS5pLxu"
      },
      "outputs": [],
      "source": [
        "import segmentation_models_pytorch as smp"
      ]
    },
    {
      "cell_type": "code",
      "execution_count": 3,
      "metadata": {
        "id": "kPb1y0NvTLDk"
      },
      "outputs": [],
      "source": [
        "import cv2\n",
        "import torch\n",
        "import numpy as np\n",
        "import albumentations as album\n",
        "import segmentation_models_pytorch as smp\n",
        "\n",
        "\n",
        "class_names = ['null', 'accessories', 'bag', 'belt', 'blazer', 'blouse', 'bodysuit', 'boots', 'bra', 'bracelet', 'cape', 'cardigan', 'clogs', 'coat', 'dress', 'earrings', 'flats', 'glasses', 'gloves', 'hair', 'hat', 'heels', 'hoodie', 'intimate', 'jacket', 'jeans', 'jumper', 'leggings', 'loafers', 'necklace', 'panties', 'pants', 'pumps', 'purse', 'ring', 'romper', 'sandals', 'scarf', 'shirt', 'shoes', 'shorts', 'skin', 'skirt', 'sneakers', 'socks', 'stockings', 'suit', 'sunglasses', 'sweater', 'sweatshirt', 'swimwear', 't-shirt', 'tie', 'tights', 'top', 'vest', 'wallet', 'watch', 'wedges']\n",
        "\n",
        "import math\n",
        "colors = [\n",
        "    (\"black\", (0, 0, 0)),\n",
        "    (\"silver\", (192, 192, 192)),\n",
        "    (\"gray\", (128, 128, 128)),\n",
        "    (\"white\", (255, 255, 255)),\n",
        "    (\"maroon\", (128, 0, 0)),\n",
        "    (\"red\", (255, 0, 0)),\n",
        "    (\"purple\", (128, 0, 128)),\n",
        "    (\"fuchsia\", (255, 0, 255)),\n",
        "    (\"green\", (0, 128, 0)),\n",
        "    (\"lime\", (0, 255, 0)),\n",
        "    (\"olive\", (128, 128, 0)),\n",
        "    (\"yellow\", (255, 255, 0)),\n",
        "    (\"navy\", (0, 0, 128)),\n",
        "    (\"blue\", (0, 0, 255)),\n",
        "    (\"teal\", (0, 128, 128)),\n",
        "    (\"aqua\", (0, 255, 255)),\n",
        "    (\"brown\", (150, 75, 0)),\n",
        "    (\"orange\", (255, 165, 0)),\n",
        "]\n",
        "\n",
        "def distance(a,b):\n",
        "    dx = a[0]-b[0]\n",
        "    dy = a[1]-b[1]\n",
        "    dz = a[2]-b[2]\n",
        "    return math.sqrt(dx*dx+dy*dy+dz*dz)\n",
        "\n",
        "def findclosest(pixel):\n",
        "    mn = 999999\n",
        "    for name,rgb in colors:\n",
        "        d = distance(pixel, rgb)\n",
        "        if d < mn:\n",
        "            mn = d\n",
        "            color = name\n",
        "    return color\n",
        "\n",
        "\n",
        "def one_hot_encode(label, label_values):\n",
        "    semantic_map = []\n",
        "    for colour in label_values:\n",
        "        equality = np.equal(label, colour)\n",
        "        class_map = np.all(equality, axis = -1)\n",
        "        semantic_map.append(class_map)\n",
        "    semantic_map = np.stack(semantic_map, axis=-1)\n",
        "\n",
        "    return semantic_map\n",
        "\n",
        "def reverse_one_hot(image):\n",
        "    x = np.argmax(image, axis = -1)\n",
        "    return x\n",
        "\n",
        "def get_rgb(img, mask):\n",
        "    r = img[:, :, 0][mask].mean()\n",
        "    g = img[:, :, 1][mask].mean()\n",
        "    b = img[:, :, 2][mask].mean()\n",
        "    return r, g, b\n",
        "\n",
        "remove_items = {\n",
        "    \"M\" : [\n",
        "        'blouse',\n",
        "        'bra',\n",
        "        'cape',\n",
        "        'dress',\n",
        "        'flats',\n",
        "        'heels',\n",
        "        'intimate',\n",
        "        'leggings',\n",
        "        'panties',\n",
        "        'pumps',\n",
        "        'purse',\n",
        "        'romper',\n",
        "        'skirt',\n",
        "        'tights',\n",
        "        'top',\n",
        "        'wedges'\n",
        "    ],\n",
        "    \"F\" : [\n",
        "        'vest',\n",
        "        'wallet',\n",
        "        'watch'\n",
        "    ]\n",
        "}\n",
        "\n",
        "\n",
        "def update_matrix(matrix, scaler):\n",
        "    updated_matrix = matrix.copy()\n",
        "    for item, count in scaler.items():\n",
        "        idx = combos_idx[item]\n",
        "        updated_matrix[:, idx] = updated_matrix[:, idx] + 1\n",
        "        updated_matrix[:, idx] = updated_matrix[:, idx] * count\n",
        "    return updated_matrix\n",
        "\n",
        "def get_recommendations(query_items, matrix, gender=\"other\", n=10):\n",
        "    response = np.zeros(len(combos))\n",
        "    for item in query_items:\n",
        "        idx = combos_idx[item]\n",
        "        response = response + matrix[idx]\n",
        "    for item in query_items:\n",
        "        idx = combos_idx[item]\n",
        "        response[idx] = 0\n",
        "    if gender != \"other\":\n",
        "        for item in remove_items[gender]:\n",
        "            for color in color_labels:\n",
        "                idx = combos_idx[color+\" \"+item]\n",
        "                response[idx] = 0\n",
        "\n",
        "    idx_sort = response.argsort()\n",
        "    combos_ = np.array(combos)\n",
        "    response = combos_[idx_sort[::-1]][:n]\n",
        "\n",
        "    return [color+\" \"+item for color, item in response]\n",
        "\n",
        "from itertools import product\n",
        "\n",
        "dont_include = (\"null\", \"accessories\", \"hair\", \"skin\")\n",
        "dont_include_idx = (0, 1, 19, 41)\n",
        "items = {tag: i for i, tag in enumerate(class_names) if tag not in dont_include}\n",
        "color_labels = [color for color, _ in colors]\n",
        "item_labels = [item for item, _ in items.items()]\n",
        "\n",
        "combos = list(product(color_labels, item_labels))\n",
        "combos_idx = {\n",
        "    color+\" \"+item: i for i, (color, item) in enumerate(combos)\n",
        "}\n",
        "\n",
        "matrix = np.fromfile('matrix.dat', dtype=int).reshape(\n",
        "    len(combos), len(combos)\n",
        ")\n",
        "\n",
        "def get_custom_recommendations(query_items, context_items, gender=\"other\", n=10):\n",
        "    updated_matrix = update_matrix(\n",
        "        matrix, context_items\n",
        "    )\n",
        "    response = get_recommendations(query_items, updated_matrix, gender=gender, n=n)\n",
        "    return response"
      ]
    },
    {
      "cell_type": "code",
      "execution_count": 4,
      "metadata": {
        "id": "Fky4x2xwmfiK"
      },
      "outputs": [],
      "source": [
        "def relevant_items(output, expected):\n",
        "    return list(set(output).intersection(set(expected)))\n",
        "\n",
        "def fp(output, expected):\n",
        "    return list(set(output).difference(set(expected)))\n",
        "\n",
        "def get_precision(output, expected):\n",
        "    relevant = relevant_items(output, expected)\n",
        "    total = output\n",
        "    return len(relevant)/len(total)\n",
        "\n",
        "def get_recall(output, expected):\n",
        "    relevant = relevant_items(output, expected)\n",
        "    total = expected\n",
        "    return len(relevant)/len(total)\n",
        "\n",
        "def get_fpr(output, expected, input):\n",
        "    false_positives = fp(output, expected)\n",
        "    total = matrix.shape[0] - len(expected) - len(input)\n",
        "    return len(false_positives)/total"
      ]
    },
    {
      "cell_type": "code",
      "execution_count": 6,
      "metadata": {
        "id": "EoEE9NnxnFCA"
      },
      "outputs": [],
      "source": [
        "import os\n",
        "import pandas as pd\n",
        "class_dict = pd.read_csv(os.path.join('data', 'class_dict.csv'))\n",
        "# Get class RGB values\n",
        "class_rgb_values = class_dict[['r','g','b']].values.tolist()\n",
        "select_classes = ['null', 'accessories', 'bag', 'belt', 'blazer', 'blouse', 'bodysuit',\n",
        "                  'boots', 'bra', 'bracelet', 'cape', 'cardigan', 'clogs', 'coat', 'dress',\n",
        "                  'earrings', 'flats', 'glasses', 'gloves', 'hair', 'hat', 'heels', 'hoodie',\n",
        "                  'intimate', 'jacket', 'jeans', 'jumper', 'leggings', 'loafers', 'necklace',\n",
        "                  'panties', 'pants', 'pumps', 'purse', 'ring', 'romper', 'sandals', 'scarf',\n",
        "                  'shirt', 'shoes', 'shorts', 'skin', 'skirt', 'sneakers', 'socks', 'stockings',\n",
        "                  'suit', 'sunglasses', 'sweater', 'sweatshirt', 'swimwear', 't-shirt', 'tie',\n",
        "                  'tights', 'top', 'vest', 'wallet', 'watch', 'wedges']"
      ]
    },
    {
      "cell_type": "code",
      "execution_count": 8,
      "metadata": {
        "colab": {
          "base_uri": "https://localhost:8080/"
        },
        "id": "Oz7rJyhHkvXO",
        "outputId": "b7602623-2233-4ce7-b140-8572b7504cb5"
      },
      "outputs": [
        {
          "output_type": "stream",
          "name": "stdout",
          "text": [
            "0 of 1004 done.\n",
            "10 of 1004 done.\n",
            "20 of 1004 done.\n",
            "30 of 1004 done.\n",
            "40 of 1004 done.\n",
            "50 of 1004 done.\n",
            "60 of 1004 done.\n",
            "70 of 1004 done.\n",
            "80 of 1004 done.\n",
            "90 of 1004 done.\n",
            "100 of 1004 done.\n",
            "CPU times: user 1min 53s, sys: 7.69 s, total: 2min\n",
            "Wall time: 2min 1s\n"
          ]
        }
      ],
      "source": [
        "%%time\n",
        "\n",
        "import os, cv2\n",
        "\n",
        "eval_dataset = {}\n",
        "files = os.listdir(f\"data/labels/pixel_level_labels_colored/\")\n",
        "for fnum, file_name in enumerate(files):\n",
        "    segmentations = cv2.imread(f\"data/labels/pixel_level_labels_colored/{file_name}\")[:,:,::-1]\n",
        "    img = cv2.imread(f\"data/images/{file_name[:-4]}.jpg\")\n",
        "\n",
        "    mask = reverse_one_hot(one_hot_encode(segmentations, class_rgb_values).astype('float'))\n",
        "\n",
        "    img_items = np.unique(mask)\n",
        "    img_items = [x for x in img_items if x not in (0, 1, 19, 41)]\n",
        "\n",
        "    img_color_items = []\n",
        "    for n in img_items:\n",
        "        item = select_classes[n]\n",
        "        r, g, b = get_rgb(img, mask==n)\n",
        "        color = findclosest([r, g, b])\n",
        "        img_color_items += [color+\" \"+item]\n",
        "\n",
        "    eval_dataset[file_name[:-4]] = img_color_items\n",
        "    if not fnum%10:\n",
        "        print(f\"{fnum} of {len(files)} done.\")\n",
        "    if fnum == 100:\n",
        "        break"
      ]
    },
    {
      "cell_type": "code",
      "execution_count": 9,
      "metadata": {
        "id": "DPajnssAp6jw"
      },
      "outputs": [],
      "source": [
        "from random import shuffle, randint\n",
        "\n",
        "def get_precision_recall_fpr(k):\n",
        "    precision = []\n",
        "    recall = []\n",
        "    fpr = []\n",
        "    for file, data in eval_dataset.items():\n",
        "        if len(data) <= 1:\n",
        "            continue\n",
        "        idx = randint(1, len(data) - 1)\n",
        "        query =  data[:idx]\n",
        "        expected = data[idx:]\n",
        "\n",
        "        output = get_recommendations(query, matrix, n=k)\n",
        "        precision.append(get_precision(output, expected))\n",
        "        recall.append(get_recall(output, expected))\n",
        "        fpr.append(get_fpr(output, expected, query))\n",
        "\n",
        "    precision = np.mean(precision)\n",
        "    recall = np.mean(recall)\n",
        "    fpr = np.mean(fpr)\n",
        "    return precision, recall, fpr\n",
        "\n",
        "def get_roc(k_sweep=10):\n",
        "    precision = []\n",
        "    recall = []\n",
        "    fpr = []\n",
        "    for k in range(1, k_sweep+1):\n",
        "        precision_k, recall_k, fpr_k = get_precision_recall_fpr(k)\n",
        "        precision.append(precision_k)\n",
        "        recall.append(recall_k)\n",
        "        fpr.append(fpr_k)\n",
        "    return precision, recall, fpr"
      ]
    },
    {
      "cell_type": "code",
      "execution_count": 10,
      "metadata": {
        "id": "mVFukk_dtI9E"
      },
      "outputs": [],
      "source": [
        "p, r, fpr = get_roc(200)"
      ]
    },
    {
      "cell_type": "code",
      "execution_count": 12,
      "metadata": {
        "colab": {
          "base_uri": "https://localhost:8080/",
          "height": 447
        },
        "id": "TkFtNuCLuQeB",
        "outputId": "2e81f897-f9ab-44b4-80fd-a0ed1fbdcc17"
      },
      "outputs": [
        {
          "output_type": "execute_result",
          "data": {
            "text/plain": [
              "(0.0, 1.0)"
            ]
          },
          "metadata": {},
          "execution_count": 12
        },
        {
          "output_type": "display_data",
          "data": {
            "text/plain": [
              "<Figure size 640x480 with 1 Axes>"
            ],
            "image/png": "[encoded data removed]"
          },
          "metadata": {}
        }
      ],
      "source": [
        "import matplotlib.pyplot as plt\n",
        "p10, r10, fpr10 = get_precision_recall_fpr(80)\n",
        "plt.plot(fpr, r)\n",
        "plt.scatter(fpr10, r10, color='r')\n",
        "plt.xlim([0, 1])\n"
      ]
    },
    {
      "cell_type": "code",
      "execution_count": 13,
      "metadata": {
        "colab": {
          "base_uri": "https://localhost:8080/",
          "height": 452
        },
        "id": "dh4wK9ku2lnv",
        "outputId": "33457a53-592f-452d-a7bb-5a85a5ad4032"
      },
      "outputs": [
        {
          "output_type": "execute_result",
          "data": {
            "text/plain": [
              "(0.0, 1.0)"
            ]
          },
          "metadata": {},
          "execution_count": 13
        },
        {
          "output_type": "display_data",
          "data": {
            "text/plain": [
              "<Figure size 640x480 with 1 Axes>"
            ],
            "image/png": "[encoded data removed]"
          },
          "metadata": {}
        }
      ],
      "source": [
        "p10, r10, fpr10 = get_precision_recall_fpr(3)\n",
        "plt.plot(r, p)\n",
        "plt.scatter(r10, p10, color='r')\n",
        "plt.ylim([0, 1])"
      ]
    },
    {
      "cell_type": "code",
      "execution_count": 16,
      "metadata": {
        "id": "tShjVFAF5O8E",
        "colab": {
          "base_uri": "https://localhost:8080/",
          "height": 407
        },
        "outputId": "4dcdabac-355b-4bec-e105-a9d699b40aaa"
      },
      "outputs": [
        {
          "output_type": "display_data",
          "data": {
            "text/plain": [
              "<Figure size 900x400 with 2 Axes>"
            ],
            "image/png": "[encoded data removed]"
          },
          "metadata": {}
        }
      ],
      "source": [
        "import seaborn as sns\n",
        "sns.set_style(\"darkgrid\")\n",
        "fig = plt.figure(figsize=(9,4))\n",
        "ax1 = plt.subplot(1, 2, 1)\n",
        "plt.plot(fpr, r, label = '$n\\in [1, 100]$')\n",
        "plt.scatter(fpr10, r10, label = 'n=10', color='r')\n",
        "plt.xlabel('FPR')\n",
        "plt.ylabel('Recall')\n",
        "plt.title('ROC curve for $n$ recommendations')\n",
        "ax2 = plt.subplot(1, 2, 2, sharey=ax1)\n",
        "plt.plot(r, p, label = '$n\\in [0, 100]$')\n",
        "plt.scatter(r10, p10, label = 'n=10', color='r')\n",
        "plt.xlabel('Recall')\n",
        "plt.ylabel('Precision', rotation=-90, labelpad=20)\n",
        "plt.title('Precision - Recall curve')\n",
        "plt.legend(loc='best')\n",
        "ax2.yaxis.set_label_position(\"right\")\n",
        "ax1.tick_params(labelleft=False)\n",
        "plt.tight_layout()\n",
        "plt.show()\n",
        "fig.savefig(f\"roc.pdf\", format=\"pdf\", dpi=1200)\n",
        "fig.savefig(f\"roc.png\", format=\"png\", dpi=1200)"
      ]
    },
    {
      "cell_type": "code",
      "source": [],
      "metadata": {
        "id": "qTPCK8Z4xpB5"
      },
      "execution_count": null,
      "outputs": []
    }
  ],
  "metadata": {
    "colab": {
      "provenance": []
    },
    "kaggle": {
      "accelerator": "gpu",
      "dataSources": [
        {
          "datasetId": 895594,
          "sourceId": 1519402,
          "sourceType": "datasetVersion"
        }
      ],
      "dockerImageVersionId": 30014,
      "isGpuEnabled": true,
      "isInternetEnabled": false,
      "language": "python",
      "sourceType": "notebook"
    },
    "kernelspec": {
      "display_name": "Python 3",
      "language": "python",
      "name": "python3"
    },
    "language_info": {
      "codemirror_mode": {
        "name": "ipython",
        "version": 3
      },
      "file_extension": ".py",
      "mimetype": "text/x-python",
      "name": "python",
      "nbconvert_exporter": "python",
      "pygments_lexer": "ipython3",
      "version": "3.7.6"
    }
  },
  "nbformat": 4,
  "nbformat_minor": 0
}